{
 "cells": [
  {
   "cell_type": "markdown",
   "id": "3a16583f-e24f-4c1b-ad9b-ba72cb76e24e",
   "metadata": {},
   "source": [
    "\"\"\" Basic Python \"\"\""
   ]
  },
  {
   "cell_type": "code",
   "execution_count": 19,
   "id": "344f639f-d743-46d6-b293-ff1f5ce899e4",
   "metadata": {},
   "outputs": [
    {
     "name": "stdout",
     "output_type": "stream",
     "text": [
      "Welcome to Python 3.12's help utility! If this is your first time using\n",
      "Python, you should definitely check out the tutorial at\n",
      "https://docs.python.org/3.12/tutorial/.\n",
      "\n",
      "Enter the name of any module, keyword, or topic to get help on writing\n",
      "Python programs and using Python modules.  To get a list of available\n",
      "modules, keywords, symbols, or topics, enter \"modules\", \"keywords\",\n",
      "\"symbols\", or \"topics\".\n",
      "\n",
      "Each module also comes with a one-line summary of what it does; to list\n",
      "the modules whose name or summary contain a given string such as \"spam\",\n",
      "enter \"modules spam\".\n",
      "\n",
      "To quit this help utility and return to the interpreter,\n",
      "enter \"q\" or \"quit\".\n",
      "\n",
      "\n",
      "You are now leaving help and returning to the Python interpreter.\n",
      "If you want to ask for help on a particular object directly from the\n",
      "interpreter, you can type \"help(object)\".  Executing \"help('string')\"\n",
      "has the same effect as typing a particular string at the help> prompt.\n"
     ]
    }
   ],
   "source": [
    "help()"
   ]
  },
  {
   "cell_type": "markdown",
   "id": "d44975a4-a287-4f87-a0cc-3158b8943a00",
   "metadata": {},
   "source": [
    "introduction to ID\n",
    "ID - memory adress location"
   ]
  },
  {
   "cell_type": "markdown",
   "id": "89b2dc28-813b-42ef-a778-9dc872f9bdeb",
   "metadata": {},
   "source": [
    "In python there is no constant , python has only variables"
   ]
  },
  {
   "cell_type": "markdown",
   "id": "6638614b-6e30-46cb-b072-a0a8d1ac913d",
   "metadata": {},
   "source": [
    "# Number System Conversion"
   ]
  },
  {
   "cell_type": "markdown",
   "id": "f5ca0b90-08fe-4280-b6f8-3941c17416b2",
   "metadata": {},
   "source": [
    "Binary num system\n",
    "octa num sys\n",
    "Decimal Num system\n",
    "Hexadecimal num System"
   ]
  },
  {
   "cell_type": "code",
   "execution_count": 22,
   "id": "dc968b96-16db-4d44-90fe-ac78a45ddf9c",
   "metadata": {},
   "outputs": [
    {
     "data": {
      "text/plain": [
       "15"
      ]
     },
     "execution_count": 22,
     "metadata": {},
     "output_type": "execute_result"
    }
   ],
   "source": [
    "15"
   ]
  },
  {
   "cell_type": "code",
   "execution_count": 24,
   "id": "d690f59c-38de-4df3-bb84-dc468a1cbd3c",
   "metadata": {},
   "outputs": [
    {
     "data": {
      "text/plain": [
       "'0b1111'"
      ]
     },
     "execution_count": 24,
     "metadata": {},
     "output_type": "execute_result"
    }
   ],
   "source": [
    "bin(15)#count from bottom to top"
   ]
  },
  {
   "cell_type": "code",
   "execution_count": 26,
   "id": "97d0c83e-a62c-4a0d-a756-9f506ca759c7",
   "metadata": {},
   "outputs": [
    {
     "data": {
      "text/plain": [
       "'0b1010'"
      ]
     },
     "execution_count": 26,
     "metadata": {},
     "output_type": "execute_result"
    }
   ],
   "source": [
    "bin(10)"
   ]
  },
  {
   "cell_type": "code",
   "execution_count": 28,
   "id": "d68a5f23-fbaf-4d84-865a-1d27ecdcdbd1",
   "metadata": {},
   "outputs": [
    {
     "data": {
      "text/plain": [
       "'0b11001'"
      ]
     },
     "execution_count": 28,
     "metadata": {},
     "output_type": "execute_result"
    }
   ],
   "source": [
    "bin(25)"
   ]
  },
  {
   "cell_type": "code",
   "execution_count": 30,
   "id": "7094fb14-b47d-4e91-b2be-3b33aeb50c31",
   "metadata": {},
   "outputs": [
    {
     "data": {
      "text/plain": [
       "'0b101101'"
      ]
     },
     "execution_count": 30,
     "metadata": {},
     "output_type": "execute_result"
    }
   ],
   "source": [
    "bin(45)"
   ]
  },
  {
   "cell_type": "code",
   "execution_count": 32,
   "id": "2f4d259f-39ac-490a-b298-39278ee16182",
   "metadata": {},
   "outputs": [],
   "source": [
    "import numpy as np"
   ]
  },
  {
   "cell_type": "code",
   "execution_count": 34,
   "id": "918ae85d-679a-4d48-8c24-4b0dac45cbb1",
   "metadata": {},
   "outputs": [],
   "source": [
    "import matplotlib.pyplot as plt"
   ]
  },
  {
   "cell_type": "code",
   "execution_count": 38,
   "id": "593ef0d6-7944-4c01-8f93-ca91b10e1a4f",
   "metadata": {},
   "outputs": [],
   "source": [
    "from PIL import Image "
   ]
  },
  {
   "cell_type": "code",
   "execution_count": 41,
   "id": "e7dab422-acfd-4d29-b591-6f86534cf318",
   "metadata": {},
   "outputs": [],
   "source": [
    "bin_img = Image.open(r'C:\\Users\\akaft\\OneDrive\\Desktop\\Bin().png')"
   ]
  },
  {
   "cell_type": "code",
   "execution_count": 43,
   "id": "fed1cce8-4553-4f97-b03b-447ac7d7c6e9",
   "metadata": {},
   "outputs": [
    {
     "data": {
      "image/png": "[encoded data removed]",
      "text/plain": [
       "<PIL.PngImagePlugin.PngImageFile image mode=RGBA size=542x247>"
      ]
     },
     "execution_count": 43,
     "metadata": {},
     "output_type": "execute_result"
    }
   ],
   "source": [
    "bin_img"
   ]
  },
  {
   "cell_type": "markdown",
   "id": "f9e4250f-58ed-44e2-9b2a-8164ee0172af",
   "metadata": {},
   "source": [
    "0b1010 # binary value to num system\n",
    "0b*1010\n",
    "1*2**3 + 0*2**2+1*2**1+0*2**0\n",
    "8+0+2+0\n",
    "=10"
   ]
  },
  {
   "cell_type": "code",
   "execution_count": 45,
   "id": "f3c47d8c-e7da-43b0-880a-dc206e507152",
   "metadata": {},
   "outputs": [
    {
     "data": {
      "text/plain": [
       "15"
      ]
     },
     "execution_count": 45,
     "metadata": {},
     "output_type": "execute_result"
    }
   ],
   "source": [
    "0b1111"
   ]
  },
  {
   "cell_type": "code",
   "execution_count": 47,
   "id": "12609524-ea27-470a-913b-4ae4d90d65fa",
   "metadata": {},
   "outputs": [
    {
     "data": {
      "text/plain": [
       "'0o17'"
      ]
     },
     "execution_count": 47,
     "metadata": {},
     "output_type": "execute_result"
    }
   ],
   "source": [
    "oct(15)"
   ]
  },
  {
   "cell_type": "code",
   "execution_count": 57,
   "id": "6b754058-37a6-4fe0-b70f-02020c80d850",
   "metadata": {},
   "outputs": [
    {
     "data": {
      "text/plain": [
       "'0o31'"
      ]
     },
     "execution_count": 57,
     "metadata": {},
     "output_type": "execute_result"
    }
   ],
   "source": [
    "oct(25)"
   ]
  },
  {
   "cell_type": "code",
   "execution_count": 59,
   "id": "17b792b5-84b0-4bf6-95b5-c41336cf53f0",
   "metadata": {},
   "outputs": [],
   "source": [
    "num_sys = Image.open(r'C:\\Users\\akaft\\OneDrive\\Desktop\\num_sys scree.png')"
   ]
  },
  {
   "cell_type": "code",
   "execution_count": 61,
   "id": "a55749b3-768e-43e6-8081-a81e0e9f351d",
   "metadata": {},
   "outputs": [
    {
     "data": {
      "image/png": "[encoded data removed]",
      "text/plain": [
       "<PIL.PngImagePlugin.PngImageFile image mode=RGBA size=886x302>"
      ]
     },
     "execution_count": 61,
     "metadata": {},
     "output_type": "execute_result"
    }
   ],
   "source": [
    "num_sys"
   ]
  },
  {
   "cell_type": "code",
   "execution_count": 63,
   "id": "43424a60-e256-4d11-b81a-d2d001f62b54",
   "metadata": {},
   "outputs": [
    {
     "data": {
      "text/plain": [
       "'0o67'"
      ]
     },
     "execution_count": 63,
     "metadata": {},
     "output_type": "execute_result"
    }
   ],
   "source": [
    "oct(55)"
   ]
  },
  {
   "cell_type": "code",
   "execution_count": 49,
   "id": "f86947ff-8dd1-439c-921c-ddb9ac3657ed",
   "metadata": {},
   "outputs": [
    {
     "data": {
      "text/plain": [
       "'0xf'"
      ]
     },
     "execution_count": 49,
     "metadata": {},
     "output_type": "execute_result"
    }
   ],
   "source": [
    "hex(15)#hexadecimal(base 16 , range (0 to 15)"
   ]
  },
  {
   "cell_type": "code",
   "execution_count": 55,
   "id": "bcb8cf92-808b-4ce0-a3a2-d33b40bf5f66",
   "metadata": {},
   "outputs": [
    {
     "data": {
      "text/plain": [
       "15"
      ]
     },
     "execution_count": 55,
     "metadata": {},
     "output_type": "execute_result"
    }
   ],
   "source": [
    "0xf"
   ]
  },
  {
   "cell_type": "code",
   "execution_count": 65,
   "id": "1774f380-d164-485d-bf5c-b608d4e8eb61",
   "metadata": {},
   "outputs": [
    {
     "data": {
      "text/plain": [
       "'0x1e'"
      ]
     },
     "execution_count": 65,
     "metadata": {},
     "output_type": "execute_result"
    }
   ],
   "source": [
    "hex(30)"
   ]
  },
  {
   "cell_type": "code",
   "execution_count": 67,
   "id": "970ca478-b0f7-445b-b7af-6d30100ac61b",
   "metadata": {},
   "outputs": [
    {
     "data": {
      "text/plain": [
       "'0x32'"
      ]
     },
     "execution_count": 67,
     "metadata": {},
     "output_type": "execute_result"
    }
   ],
   "source": [
    "hex(50)"
   ]
  },
  {
   "cell_type": "markdown",
   "id": "6983eed4-a17b-48c3-a0bb-b3468c1a7653",
   "metadata": {},
   "source": [
    "## How TO Swap 2 Variables\n",
    "## (a,b=5,6)After swap we should get==>(a,b=6,5)"
   ]
  },
  {
   "cell_type": "code",
   "execution_count": 90,
   "id": "1f5ab83b-c81e-49f2-92dc-496cc5583ce8",
   "metadata": {},
   "outputs": [],
   "source": [
    "a = 5\n",
    "b = 6"
   ]
  },
  {
   "cell_type": "code",
   "execution_count": 92,
   "id": "04f1c3f9-f7c6-4883-a8ac-d6605c3d7194",
   "metadata": {},
   "outputs": [],
   "source": [
    "a = b\n",
    "b = a"
   ]
  },
  {
   "cell_type": "code",
   "execution_count": 94,
   "id": "d6a92a38-ae66-40e5-838b-0e6b153ab37e",
   "metadata": {},
   "outputs": [
    {
     "name": "stdout",
     "output_type": "stream",
     "text": [
      "6\n",
      "6\n"
     ]
    }
   ],
   "source": [
    "print(a)# swap not happend\n",
    "print(b)"
   ]
  },
  {
   "cell_type": "code",
   "execution_count": 96,
   "id": "e5084fed-6a06-4ea8-8a49-7fa9debd8eb2",
   "metadata": {},
   "outputs": [],
   "source": [
    "# in above scenario we lost the value 5\n",
    "a1=7\n",
    "b1=8"
   ]
  },
  {
   "cell_type": "code",
   "execution_count": 98,
   "id": "6225098b-16d8-4355-923a-5b067a2d8956",
   "metadata": {},
   "outputs": [],
   "source": [
    "temp=a1\n",
    "a1=b1\n",
    "b1=temp"
   ]
  },
  {
   "cell_type": "code",
   "execution_count": 100,
   "id": "28143f0a-c6ff-4b2b-9e47-b4911282ac7e",
   "metadata": {},
   "outputs": [
    {
     "name": "stdout",
     "output_type": "stream",
     "text": [
      "8\n",
      "7\n"
     ]
    }
   ],
   "source": [
    "print(a1)\n",
    "print(b1)"
   ]
  },
  {
   "cell_type": "code",
   "execution_count": 102,
   "id": "ba4cd37c-85d0-4f48-8f37-5cc4c49cf2f9",
   "metadata": {},
   "outputs": [],
   "source": [
    "# Swap without third variable (temp)\n",
    "a2=5\n",
    "b2=6"
   ]
  },
  {
   "cell_type": "code",
   "execution_count": 104,
   "id": "430cba07-90f4-415b-8dae-f7df37ac5474",
   "metadata": {},
   "outputs": [],
   "source": [
    "a2 = a2 + b2 # 5+6 = 11\n",
    "b2 = a2 - b2 # 11-6 = 5\n",
    "a2 = a2 - b2 #11-5 = 6"
   ]
  },
  {
   "cell_type": "code",
   "execution_count": 106,
   "id": "bcbbef7d-c0cc-4a7a-a116-9221755a5941",
   "metadata": {},
   "outputs": [
    {
     "name": "stdout",
     "output_type": "stream",
     "text": [
      "6\n",
      "5\n"
     ]
    }
   ],
   "source": [
    "print(a2)\n",
    "print(b2)"
   ]
  },
  {
   "cell_type": "code",
   "execution_count": 108,
   "id": "cf1ae718-cf62-4955-8f09-02d1bcb27959",
   "metadata": {},
   "outputs": [],
   "source": [
    "a2,b2 = b2,a2# how it work is b2 6 a2 is 5 firdt it goes into stack & then it reverse the 2 val."
   ]
  },
  {
   "cell_type": "code",
   "execution_count": 110,
   "id": "99a033fb-5d90-4046-8a2f-713b2bf5fe77",
   "metadata": {},
   "outputs": [
    {
     "name": "stdout",
     "output_type": "stream",
     "text": [
      "5\n",
      "6\n"
     ]
    }
   ],
   "source": [
    "print(a2)\n",
    "print(b2)"
   ]
  },
  {
   "cell_type": "code",
   "execution_count": 112,
   "id": "49bba3ec-86b3-4ac4-aec6-699b34bc88db",
   "metadata": {},
   "outputs": [],
   "source": [
    "e=4\n",
    "f=5"
   ]
  },
  {
   "cell_type": "code",
   "execution_count": 114,
   "id": "616548f3-e7a5-4a71-9591-2af774346063",
   "metadata": {},
   "outputs": [],
   "source": [
    "e,f=f,e"
   ]
  },
  {
   "cell_type": "markdown",
   "id": "089a02e0-fa81-4c5e-bf80-3e76d090f682",
   "metadata": {},
   "source": [
    "print(e)\n",
    "print(f)"
   ]
  },
  {
   "cell_type": "markdown",
   "id": "e501a5e6-288e-439f-9c28-db226b61835d",
   "metadata": {},
   "source": [
    " ## BITWISE OPERATOR=="
   ]
  },
  {
   "cell_type": "markdown",
   "id": "476fb4d0-d2c5-413f-accf-520bbd11e602",
   "metadata": {},
   "source": [
    "1)COMPLEMENT(~)\n",
    "2)AND(&)\n",
    "3)OR(||)\n",
    "4)XOR(^)\n",
    "5)LEFT SHIFT(<<)\n",
    "6)RIGHT SHIFT(>>)"
   ]
  },
  {
   "cell_type": "code",
   "execution_count": null,
   "id": "824adaa5-05c3-4519-8506-a348aede71f2",
   "metadata": {},
   "outputs": [],
   "source": []
  },
  {
   "cell_type": "code",
   "execution_count": null,
   "id": "9049fb49-2585-487b-8f9d-6d9b4cea78fa",
   "metadata": {},
   "outputs": [],
   "source": []
  },
  {
   "cell_type": "code",
   "execution_count": null,
   "id": "76e7ce0b-9eb8-4777-81a5-2975936e97a0",
   "metadata": {},
   "outputs": [],
   "source": []
  },
  {
   "cell_type": "code",
   "execution_count": null,
   "id": "91f6f6fa-31c6-4cb8-adf2-ba7a6e3a541f",
   "metadata": {},
   "outputs": [],
   "source": []
  },
  {
   "cell_type": "code",
   "execution_count": null,
   "id": "fd0d7fa3-170d-4f77-b1d4-1714678f028b",
   "metadata": {},
   "outputs": [],
   "source": []
  },
  {
   "cell_type": "code",
   "execution_count": null,
   "id": "0399d43d-f429-4527-9813-1997acd1b4ac",
   "metadata": {},
   "outputs": [],
   "source": []
  }
 ],
 "metadata": {
  "kernelspec": {
   "display_name": "Python [conda env:base] *",
   "language": "python",
   "name": "conda-base-py"
  },
  "language_info": {
   "codemirror_mode": {
    "name": "ipython",
    "version": 3
   },
   "file_extension": ".py",
   "mimetype": "text/x-python",
   "name": "python",
   "nbconvert_exporter": "python",
   "pygments_lexer": "ipython3",
   "version": "3.12.7"
  }
 },
 "nbformat": 4,
 "nbformat_minor": 5
}
